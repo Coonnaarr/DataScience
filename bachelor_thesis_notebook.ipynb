{
  "cells": [
    {
      "cell_type": "code",
      "execution_count": null,
      "metadata": {
        "id": "OSTLkZFhJi4O"
      },
      "outputs": [],
      "source": [
        "# Import necessary libraries\n",
        "import json\n",
        "import nltk\n",
        "import numpy as np\n",
        "import pandas as pd\n",
        "import seaborn as sns\n",
        "from scipy import stats\n",
        "import matplotlib.pyplot as plt\n",
        "from datetime import datetime, time\n",
        "from nltk.sentiment import SentimentIntensityAnalyzer"
      ]
    },
    {
      "cell_type": "code",
      "execution_count": null,
      "metadata": {
        "colab": {
          "background_save": true
        },
        "collapsed": true,
        "id": "rG9ocFHvJi4S",
        "outputId": "033de609-69c1-4769-ab6b-46f984cefb0d"
      },
      "outputs": [
        {
          "name": "stdout",
          "output_type": "stream",
          "text": [
            "Error decoding JSON: Expecting ',' delimiter: line 1 column 46560 (char 46559)\n",
            "                  user_id   name  review_count        yelping_since  useful  \\\n",
            "0  2WnXYQFK0hXEoTxPtV2zvg  Steph           665  2008-07-25 10:41:00    2086   \n",
            "1  SZDeASXq7o05mMNLshsdIA   Gwen           224  2005-11-29 04:38:33     512   \n",
            "2  hA5lMy-EnncsH4JoR-hFGQ  Karen            79  2007-01-05 19:40:59      29   \n",
            "3  cxuxXkcihfCbqt5Byrup8Q    Rob            12  2009-02-24 03:09:06       6   \n",
            "4  E9kcWJdJUHuTKfQurPljwA   Mike           358  2008-12-11 22:11:56     399   \n",
            "\n",
            "   funny  cool                     elite  \\\n",
            "0   1010  1003  2009,2010,2011,2012,2013   \n",
            "1    330   299            2009,2010,2011   \n",
            "2     15     7                             \n",
            "3      1     0                             \n",
            "4    102   143                             \n",
            "\n",
            "                                             friends  fans  ...  \\\n",
            "0  LuO3Bn4f3rlhyHIaNfTlnA, j9B4XdHUhDfTKVecyWQgyA...    52  ...   \n",
            "1  enx1vVPnfdNUdPho6PH_wg, 4wOcvMLtU6a9Lslggq74Vg...    28  ...   \n",
            "2  PBK4q9KEEBHhFvSXCUirIw, 3FWPpM7KU1gXeOM_ZbYMbA...     1  ...   \n",
            "3  HDAQ74AEznP-YsMk1B14CA, 6A6-aIX7fg_zRy9MiE6YyQ...     1  ...   \n",
            "4  y2GyxJF5VQWohxgw_GR7Jw, 0NRn4eY3JWN0IFqvOSa5gA...    23  ...   \n",
            "\n",
            "   compliment_more  compliment_profile  compliment_cute  compliment_list  \\\n",
            "0               13                  10               17                3   \n",
            "1                4                   1                6                2   \n",
            "2                1                   0                0                0   \n",
            "3                0                   0                0                0   \n",
            "4                7                   2                0                0   \n",
            "\n",
            "   compliment_note  compliment_plain  compliment_cool  compliment_funny  \\\n",
            "0               66                96              119               119   \n",
            "1               12                16               26                26   \n",
            "2                1                 1                0                 0   \n",
            "3                0                 1                0                 0   \n",
            "4                8                 6               12                12   \n",
            "\n",
            "   compliment_writer  compliment_photos  \n",
            "0                 35                 18  \n",
            "1                 10                  9  \n",
            "2                  0                  0  \n",
            "3                  0                  0  \n",
            "4                  5                  0  \n",
            "\n",
            "[5 rows x 22 columns]\n"
          ]
        }
      ],
      "source": [
        "# Goal: Read data from a JSON file, handle JSON decoding errors, and create a DataFrame from the user data.\n",
        "\n",
        "# Initialize an empty list to store user data\n",
        "user_data = []\n",
        "\n",
        "# Open and read the 'user_extended.json' file, which contains JSON data\n",
        "with open('./sample_data/user_extended.json', 'r', encoding='utf-8') as file:\n",
        "    # Iterate through each line in the file\n",
        "    for line in file:\n",
        "        try:\n",
        "            # Try to parse each line of JSON data and append it to the user_data list\n",
        "            user_data.append(json.loads(line))\n",
        "        except json.JSONDecodeError as e:\n",
        "            # Handle any JSON decoding errors and print the error message\n",
        "            print(f\"Error decoding JSON: {e}\")\n",
        "\n",
        "# Create a DataFrame from the user data\n",
        "df_user = pd.DataFrame(user_data)\n",
        "\n",
        "# Output the first few entries of the user DataFrame to check the data\n",
        "print(df_user.head())"
      ]
    },
    {
      "cell_type": "code",
      "execution_count": null,
      "metadata": {
        "colab": {
          "background_save": true
        },
        "id": "tSySiLhCwGbZ"
      },
      "outputs": [],
      "source": []
    },
    {
      "cell_type": "code",
      "execution_count": null,
      "metadata": {
        "colab": {
          "background_save": true
        },
        "collapsed": true,
        "id": "ONDL5CLhJi4T",
        "outputId": "805fdecb-1f7c-428a-c321-5094151c0cf8"
      },
      "outputs": [
        {
          "name": "stdout",
          "output_type": "stream",
          "text": [
            "Error decoding JSON: Unterminated string starting at: line 1 column 270 (char 269)\n",
            "                review_id                 user_id             business_id  \\\n",
            "0  KU_O5udG6zpxOg-VcAEodg  mh_-eMZ6K5RLWhZyISBhwA  XQfwVwDr-v0ZS3_CbbE5Xw   \n",
            "1  BiTunyQ73aT9WBnpR9DZGw  OyoGAe7OKpv6SyGZT5g77Q  7ATYjTIgM3jUlt4UM3IypQ   \n",
            "2  saUsX_uimxRlCVr67Z4Jig  8g_iMtfSiwikVnbP2etR0A  YjUWPpI6HXG530lwP-fb2A   \n",
            "3  AqPFMleE6RsU23_auESxiA  _7bHUi9Uuf5__HHc_Q8guQ  kxX2SOes4o-D3ZQBkiMRfA   \n",
            "4  Sx8TMOWLNuJBWer-0pcmoA  bcjbaE6dDog4jkNY91ncLQ  e4Vwtrqf-wpJfwesgvdgxQ   \n",
            "\n",
            "   stars  useful  funny  cool  \\\n",
            "0    3.0       0      0     0   \n",
            "1    5.0       1      0     1   \n",
            "2    3.0       0      0     0   \n",
            "3    5.0       1      0     1   \n",
            "4    4.0       1      0     1   \n",
            "\n",
            "                                                text                 date  \n",
            "0  If you decide to eat here, just be aware it is...  2018-07-07 22:09:11  \n",
            "1  I've taken a lot of spin classes over the year...  2012-01-03 15:28:18  \n",
            "2  Family diner. Had the buffet. Eclectic assortm...  2014-02-05 20:30:30  \n",
            "3  Wow!  Yummy, different,  delicious.   Our favo...  2015-01-04 00:01:03  \n",
            "4  Cute interior and owner (?) gave us tour of up...  2017-01-14 20:54:15  \n"
          ]
        }
      ],
      "source": [
        "# Goal: Read data from a JSON file containing reviews, handle JSON decoding errors, and create a DataFrame.\n",
        "\n",
        "# Initialize an empty list to store review data\n",
        "review_data = []\n",
        "\n",
        "# Open and read the 'review_extended.json' file, which contains JSON data\n",
        "with open('./sample_data/review_extended.json', 'r', encoding='utf-8') as file:\n",
        "    # Iterate through each line in the file\n",
        "    for line in file:\n",
        "        try:\n",
        "            # Try to parse each line of JSON data and append it to the review_data list\n",
        "            review_data.append(json.loads(line))\n",
        "        except json.JSONDecodeError as e:\n",
        "            # Handle any JSON decoding errors and print the error message\n",
        "            print(f\"Error decoding JSON: {e}\")\n",
        "\n",
        "# Create a DataFrame from the review data\n",
        "df_review = pd.DataFrame(review_data)\n",
        "\n",
        "# Output the first few entries of the review DataFrame to check the data\n",
        "print(df_review.head())"
      ]
    },
    {
      "cell_type": "code",
      "execution_count": null,
      "metadata": {
        "colab": {
          "background_save": true
        },
        "collapsed": true,
        "id": "OXXf8xgbJi4U",
        "outputId": "69d0681f-8d5c-460c-8280-756a468f0648"
      },
      "outputs": [
        {
          "name": "stdout",
          "output_type": "stream",
          "text": [
            "                review_id                 user_id             business_id  \\\n",
            "0  KU_O5udG6zpxOg-VcAEodg  mh_-eMZ6K5RLWhZyISBhwA  XQfwVwDr-v0ZS3_CbbE5Xw   \n",
            "1  BiTunyQ73aT9WBnpR9DZGw  OyoGAe7OKpv6SyGZT5g77Q  7ATYjTIgM3jUlt4UM3IypQ   \n",
            "2  saUsX_uimxRlCVr67Z4Jig  8g_iMtfSiwikVnbP2etR0A  YjUWPpI6HXG530lwP-fb2A   \n",
            "3  AqPFMleE6RsU23_auESxiA  _7bHUi9Uuf5__HHc_Q8guQ  kxX2SOes4o-D3ZQBkiMRfA   \n",
            "4  Sx8TMOWLNuJBWer-0pcmoA  bcjbaE6dDog4jkNY91ncLQ  e4Vwtrqf-wpJfwesgvdgxQ   \n",
            "\n",
            "   stars  useful  funny  cool  \\\n",
            "0    3.0       0      0     0   \n",
            "1    5.0       1      0     1   \n",
            "2    3.0       0      0     0   \n",
            "3    5.0       1      0     1   \n",
            "4    4.0       1      0     1   \n",
            "\n",
            "                                                text                 date  \n",
            "0  If you decide to eat here, just be aware it is...  2018-07-07 22:09:11  \n",
            "1  I've taken a lot of spin classes over the year...  2012-01-03 15:28:18  \n",
            "2  Family diner. Had the buffet. Eclectic assortm...  2014-02-05 20:30:30  \n",
            "3  Wow!  Yummy, different,  delicious.   Our favo...  2015-01-04 00:01:03  \n",
            "4  Cute interior and owner (?) gave us tour of up...  2017-01-14 20:54:15  \n",
            "(98736, 9)\n",
            "(253691, 6)\n"
          ]
        }
      ],
      "source": [
        "# Goal: Read data from JSON files, clean up DataFrames by selecting specific columns, and print DataFrame shapes.\n",
        "\n",
        "# Clean up the df_user DataFrame by selecting specific columns\n",
        "df_user = df_user[['user_id', 'name', 'review_count', 'yelping_since', 'useful', 'funny', 'cool', 'fans', 'average_stars']]\n",
        "\n",
        "# Print the first few entries of the df_review DataFrame to check the data\n",
        "print(df_review.head())\n",
        "\n",
        "# Select specific columns in the df_review DataFrame\n",
        "df_review = df_review[['review_id', 'business_id', 'user_id', 'stars', 'date', 'text']]\n",
        "\n",
        "# Print the shapes (number of rows and columns) of both DataFrames\n",
        "print(df_user.shape)\n",
        "print(df_review.shape)"
      ]
    },
    {
      "cell_type": "code",
      "execution_count": null,
      "metadata": {
        "colab": {
          "background_save": true
        },
        "collapsed": true,
        "id": "iK-tZzDaJi4U",
        "outputId": "8d662038-e1a3-428c-a580-7033a9361aff"
      },
      "outputs": [
        {
          "name": "stdout",
          "output_type": "stream",
          "text": [
            "Unique users in reviews before merge: 175122\n",
            "Unique users in merged DataFrame: 82247\n",
            "(154654, 14)\n",
            "                review_id             business_id                 user_id  \\\n",
            "0  BiTunyQ73aT9WBnpR9DZGw  7ATYjTIgM3jUlt4UM3IypQ  OyoGAe7OKpv6SyGZT5g77Q   \n",
            "1  sk6u1nDJVafRvfID_b8BKQ  qjGS_7iaQDpbVhS6W8qkHQ  OyoGAe7OKpv6SyGZT5g77Q   \n",
            "2  6AxgBCNX_PNTOxmbRSwcKQ  gmjsEdUsKpj9Xxu6pdjH0g  r3zeYsv1XFBRA4dJpL78cw   \n",
            "3  _ZeMknuYdlQcUqng_Im3yg  LHSTtnW3YHCeUkRDGyJOyw  yfFzsLmaWF2d4Sr0UNbBgg   \n",
            "4  rGQRf8UafX7OTlMNN19I8A  uMvVYRgGNXf5boolA9HXTw  1WHRWwQmZOZDAhp2Qyny4g   \n",
            "\n",
            "   stars                 date  \\\n",
            "0    5.0  2012-01-03 15:28:18   \n",
            "1    5.0  2015-04-16 16:34:29   \n",
            "2    5.0  2015-01-03 23:21:18   \n",
            "3    5.0  2015-08-07 02:29:16   \n",
            "4    5.0  2015-06-21 14:48:06   \n",
            "\n",
            "                                                text    name  review_count  \\\n",
            "0  I've taken a lot of spin classes over the year...    Erin            10   \n",
            "1  Welcome to the neighborhood, Sweet Life Bakesh...    Erin            10   \n",
            "2  Loved this tour! I grabbed a groupon and the p...   Faith            71   \n",
            "3  Amazingly amazing wings and homemade bleu chee...  Daniel             1   \n",
            "4  My experience with Shalimar was nothing but wo...   Blair            39   \n",
            "\n",
            "         yelping_since  useful  funny  cool  fans  average_stars  \n",
            "0  2011-03-07 19:45:15       6      1     2     0           4.30  \n",
            "1  2011-03-07 19:45:15       6      1     2     0           4.30  \n",
            "2  2011-03-13 21:36:16      59     10    13     1           4.51  \n",
            "3  2015-03-07 23:10:43       2      0     0     0           5.00  \n",
            "4  2009-01-27 21:20:30      65     12    23     1           4.15  \n"
          ]
        }
      ],
      "source": [
        "# Goal: Merge two DataFrames on the 'user_id' column, compare unique user IDs before and after the merge, and print the merged DataFrame.\n",
        "\n",
        "# Merge the two DataFrames df_review and df_user on the 'user_id' column using an inner join\n",
        "df_merged = pd.merge(df_review, df_user, on='user_id', how='inner')\n",
        "\n",
        "# Check the number of unique user IDs before and after the merge in the df_review DataFrame\n",
        "unique_users_review = df_review['user_id'].nunique()\n",
        "unique_users_merged = df_merged['user_id'].nunique()\n",
        "\n",
        "# Print the count of unique user IDs before and after the merge\n",
        "print(f\"Unique users in reviews before merge: {unique_users_review}\")\n",
        "print(f\"Unique users in merged DataFrame: {unique_users_merged}\")\n",
        "\n",
        "# Print the shape (number of rows and columns) of the merged DataFrame\n",
        "print(df_merged.shape)\n",
        "\n",
        "# Print the first few entries of the merged DataFrame to examine the merged data\n",
        "print(df_merged.head())"
      ]
    },
    {
      "cell_type": "code",
      "execution_count": null,
      "metadata": {
        "colab": {
          "background_save": true
        },
        "collapsed": true,
        "id": "p4AHVqyGJi4V",
        "outputId": "91c027e5-1fed-49e7-aa85-2442e2932e95"
      },
      "outputs": [
        {
          "data": {
            "text/plain": [
              "29494"
            ]
          },
          "execution_count": 149,
          "metadata": {},
          "output_type": "execute_result"
        }
      ],
      "source": [
        "# Goal: Ensure the 'date' column is in datetime format, filter the DataFrame for early morning reviews, and extract unique user IDs.\n",
        "\n",
        "# Ensure the 'date' column is in datetime format\n",
        "df_merged['date'] = pd.to_datetime(df_merged['date'])\n",
        "\n",
        "# Create a mask for the time condition (reviews between 1 AM and 11 AM)\n",
        "mask = (df_merged['date'].dt.hour >= 1) & (df_merged['date'].dt.hour <= 11)\n",
        "\n",
        "# Filter the DataFrame to keep only early morning reviews\n",
        "early_morning_reviews = df_merged[mask]\n",
        "\n",
        "# Extract unique user IDs from the filtered DataFrame\n",
        "early_morning_user_ids = early_morning_reviews['user_id'].unique()\n",
        "\n",
        "# Output the result: Count of unique user IDs who left early morning reviews\n",
        "len(early_morning_user_ids)"
      ]
    },
    {
      "cell_type": "code",
      "execution_count": null,
      "metadata": {
        "colab": {
          "background_save": true
        },
        "collapsed": true,
        "id": "sII0pSQeJi4V",
        "outputId": "22795ef5-fc01-4935-8d85-6016053e7c4b"
      },
      "outputs": [
        {
          "data": {
            "text/plain": [
              "GBTPC53ZrG1ZBY3DT8Mbcw    274\n",
              "SZU9c8V2GuREDN5KgyHFJw    177\n",
              "PY9GRfzr4nTZeINf346QOw    162\n",
              "W4ZEKkva9HpAdZG88juwyQ    117\n",
              "Zi-F-YvyVOK0k5QD7lrLOg     95\n",
              "                         ... \n",
              "ruFtZKwlJASx5BTk1dh5AQ      2\n",
              "EAtdpksdWfWAaqh3XdnNNg      2\n",
              "ememkqCmIAkZ3LJxLbf9Vg      2\n",
              "BVndHaLihEYbr76Z0CMEGw      2\n",
              "OiNrqVY54pHo5bsxH9zmCg      2\n",
              "Name: business_id, Length: 2300, dtype: int64"
            ]
          },
          "execution_count": 150,
          "metadata": {},
          "output_type": "execute_result"
        }
      ],
      "source": [
        "# Goal: Filter the original DataFrame for reviews by early morning users, identify users with exactly one review,\n",
        "# and find businesses that were reviewed more than once by these users.\n",
        "\n",
        "# Filter the original DataFrame for reviews by the early morning users\n",
        "early_morning_reviews_df = df_merged[df_merged['user_id'].isin(early_morning_user_ids)]\n",
        "\n",
        "# Group by 'user_id' and count the number of reviews for each user\n",
        "early_morning_review_counts = early_morning_reviews_df.groupby('user_id').size()\n",
        "\n",
        "# Identify users with exactly one review\n",
        "users_with_one_review_ids = early_morning_review_counts[early_morning_review_counts == 1].index\n",
        "\n",
        "# Filter reviews to include only those by users with one review\n",
        "single_reviews_df = df_merged[df_merged['user_id'].isin(users_with_one_review_ids)]\n",
        "\n",
        "# Check for businesses that were reviewed more than once by these users\n",
        "business_review_counts = single_reviews_df['business_id'].value_counts()\n",
        "duplicate_business_reviews = business_review_counts[business_review_counts > 1]\n",
        "\n",
        "# Output the results: Businesses reviewed more than once by users with one review\n",
        "duplicate_business_reviews"
      ]
    },
    {
      "cell_type": "code",
      "execution_count": null,
      "metadata": {
        "colab": {
          "background_save": true
        },
        "collapsed": true,
        "id": "Npr76ixvJi4W",
        "outputId": "6de447c6-6436-4a66-8a16-dfbfb2b20cad"
      },
      "outputs": [
        {
          "data": {
            "text/html": [
              "\n",
              "  <div id=\"df-3f7e3e49-69af-4a6e-9371-86c6e50e3c85\" class=\"colab-df-container\">\n",
              "    <div>\n",
              "<style scoped>\n",
              "    .dataframe tbody tr th:only-of-type {\n",
              "        vertical-align: middle;\n",
              "    }\n",
              "\n",
              "    .dataframe tbody tr th {\n",
              "        vertical-align: top;\n",
              "    }\n",
              "\n",
              "    .dataframe thead th {\n",
              "        text-align: right;\n",
              "    }\n",
              "</style>\n",
              "<table border=\"1\" class=\"dataframe\">\n",
              "  <thead>\n",
              "    <tr style=\"text-align: right;\">\n",
              "      <th></th>\n",
              "      <th>user_id</th>\n",
              "      <th>name</th>\n",
              "      <th>review_count</th>\n",
              "      <th>yelping_since</th>\n",
              "      <th>useful</th>\n",
              "      <th>funny</th>\n",
              "      <th>cool</th>\n",
              "      <th>fans</th>\n",
              "      <th>average_stars</th>\n",
              "      <th>stars</th>\n",
              "    </tr>\n",
              "  </thead>\n",
              "  <tbody>\n",
              "    <tr>\n",
              "      <th>0</th>\n",
              "      <td>k9Q2fyIr86AQKOvTUd22HQ</td>\n",
              "      <td>Claire</td>\n",
              "      <td>202</td>\n",
              "      <td>2007-11-29 22:52:35</td>\n",
              "      <td>241</td>\n",
              "      <td>84</td>\n",
              "      <td>97</td>\n",
              "      <td>12</td>\n",
              "      <td>3.69</td>\n",
              "      <td>5.0</td>\n",
              "    </tr>\n",
              "    <tr>\n",
              "      <th>1</th>\n",
              "      <td>l49SiMnSza1t5KdaOpecBQ</td>\n",
              "      <td>Rob</td>\n",
              "      <td>18</td>\n",
              "      <td>2012-03-17 15:35:03</td>\n",
              "      <td>14</td>\n",
              "      <td>5</td>\n",
              "      <td>4</td>\n",
              "      <td>2</td>\n",
              "      <td>3.25</td>\n",
              "      <td>1.0</td>\n",
              "    </tr>\n",
              "    <tr>\n",
              "      <th>2</th>\n",
              "      <td>q6iJ3PoohkpMQHS2cRYjuQ</td>\n",
              "      <td>Andrew</td>\n",
              "      <td>140</td>\n",
              "      <td>2008-09-08 23:33:47</td>\n",
              "      <td>143</td>\n",
              "      <td>41</td>\n",
              "      <td>40</td>\n",
              "      <td>6</td>\n",
              "      <td>3.53</td>\n",
              "      <td>4.0</td>\n",
              "    </tr>\n",
              "    <tr>\n",
              "      <th>3</th>\n",
              "      <td>dzZ7jClZzg8tcHXcxS19dg</td>\n",
              "      <td>Ken</td>\n",
              "      <td>14</td>\n",
              "      <td>2006-03-17 02:47:19</td>\n",
              "      <td>27</td>\n",
              "      <td>10</td>\n",
              "      <td>11</td>\n",
              "      <td>1</td>\n",
              "      <td>3.87</td>\n",
              "      <td>4.0</td>\n",
              "    </tr>\n",
              "    <tr>\n",
              "      <th>4</th>\n",
              "      <td>wEldYiMRs04ykBXBmDXdBw</td>\n",
              "      <td>Kara</td>\n",
              "      <td>21</td>\n",
              "      <td>2008-06-27 18:20:18</td>\n",
              "      <td>48</td>\n",
              "      <td>12</td>\n",
              "      <td>26</td>\n",
              "      <td>6</td>\n",
              "      <td>4.52</td>\n",
              "      <td>5.0</td>\n",
              "    </tr>\n",
              "    <tr>\n",
              "      <th>...</th>\n",
              "      <td>...</td>\n",
              "      <td>...</td>\n",
              "      <td>...</td>\n",
              "      <td>...</td>\n",
              "      <td>...</td>\n",
              "      <td>...</td>\n",
              "      <td>...</td>\n",
              "      <td>...</td>\n",
              "      <td>...</td>\n",
              "      <td>...</td>\n",
              "    </tr>\n",
              "    <tr>\n",
              "      <th>16481</th>\n",
              "      <td>_ldavW58__55UeaoTI01Tg</td>\n",
              "      <td>Claire</td>\n",
              "      <td>16</td>\n",
              "      <td>2016-06-10 21:08:42</td>\n",
              "      <td>12</td>\n",
              "      <td>5</td>\n",
              "      <td>5</td>\n",
              "      <td>1</td>\n",
              "      <td>3.82</td>\n",
              "      <td>1.0</td>\n",
              "    </tr>\n",
              "    <tr>\n",
              "      <th>16482</th>\n",
              "      <td>Qc5cAd9r7GiH6p1tLVbTRw</td>\n",
              "      <td>Tonya</td>\n",
              "      <td>20</td>\n",
              "      <td>2015-03-21 22:57:48</td>\n",
              "      <td>9</td>\n",
              "      <td>2</td>\n",
              "      <td>6</td>\n",
              "      <td>0</td>\n",
              "      <td>3.77</td>\n",
              "      <td>5.0</td>\n",
              "    </tr>\n",
              "    <tr>\n",
              "      <th>16483</th>\n",
              "      <td>k23Xl2Ko9yKWHAUdkYVLkg</td>\n",
              "      <td>Laura</td>\n",
              "      <td>11</td>\n",
              "      <td>2016-05-08 16:21:20</td>\n",
              "      <td>7</td>\n",
              "      <td>1</td>\n",
              "      <td>2</td>\n",
              "      <td>0</td>\n",
              "      <td>2.92</td>\n",
              "      <td>5.0</td>\n",
              "    </tr>\n",
              "    <tr>\n",
              "      <th>16484</th>\n",
              "      <td>ufDgHQz2P0LkPPdzFYuC_Q</td>\n",
              "      <td>Jennifer</td>\n",
              "      <td>8</td>\n",
              "      <td>2015-08-20 03:47:53</td>\n",
              "      <td>16</td>\n",
              "      <td>0</td>\n",
              "      <td>1</td>\n",
              "      <td>0</td>\n",
              "      <td>3.22</td>\n",
              "      <td>5.0</td>\n",
              "    </tr>\n",
              "    <tr>\n",
              "      <th>16485</th>\n",
              "      <td>S7LVtVOhAlOeukfjgMRl1g</td>\n",
              "      <td>David</td>\n",
              "      <td>2</td>\n",
              "      <td>2014-03-23 23:45:52</td>\n",
              "      <td>1</td>\n",
              "      <td>0</td>\n",
              "      <td>0</td>\n",
              "      <td>0</td>\n",
              "      <td>3.50</td>\n",
              "      <td>4.0</td>\n",
              "    </tr>\n",
              "  </tbody>\n",
              "</table>\n",
              "<p>16486 rows × 10 columns</p>\n",
              "</div>\n",
              "    <div class=\"colab-df-buttons\">\n",
              "\n",
              "  <div class=\"colab-df-container\">\n",
              "    <button class=\"colab-df-convert\" onclick=\"convertToInteractive('df-3f7e3e49-69af-4a6e-9371-86c6e50e3c85')\"\n",
              "            title=\"Convert this dataframe to an interactive table.\"\n",
              "            style=\"display:none;\">\n",
              "\n",
              "  <svg xmlns=\"http://www.w3.org/2000/svg\" height=\"24px\" viewBox=\"0 -960 960 960\">\n",
              "    <path d=\"M120-120v-720h720v720H120Zm60-500h600v-160H180v160Zm220 220h160v-160H400v160Zm0 220h160v-160H400v160ZM180-400h160v-160H180v160Zm440 0h160v-160H620v160ZM180-180h160v-160H180v160Zm440 0h160v-160H620v160Z\"/>\n",
              "  </svg>\n",
              "    </button>\n",
              "\n",
              "  <style>\n",
              "    .colab-df-container {\n",
              "      display:flex;\n",
              "      gap: 12px;\n",
              "    }\n",
              "\n",
              "    .colab-df-convert {\n",
              "      background-color: #E8F0FE;\n",
              "      border: none;\n",
              "      border-radius: 50%;\n",
              "      cursor: pointer;\n",
              "      display: none;\n",
              "      fill: #1967D2;\n",
              "      height: 32px;\n",
              "      padding: 0 0 0 0;\n",
              "      width: 32px;\n",
              "    }\n",
              "\n",
              "    .colab-df-convert:hover {\n",
              "      background-color: #E2EBFA;\n",
              "      box-shadow: 0px 1px 2px rgba(60, 64, 67, 0.3), 0px 1px 3px 1px rgba(60, 64, 67, 0.15);\n",
              "      fill: #174EA6;\n",
              "    }\n",
              "\n",
              "    .colab-df-buttons div {\n",
              "      margin-bottom: 4px;\n",
              "    }\n",
              "\n",
              "    [theme=dark] .colab-df-convert {\n",
              "      background-color: #3B4455;\n",
              "      fill: #D2E3FC;\n",
              "    }\n",
              "\n",
              "    [theme=dark] .colab-df-convert:hover {\n",
              "      background-color: #434B5C;\n",
              "      box-shadow: 0px 1px 3px 1px rgba(0, 0, 0, 0.15);\n",
              "      filter: drop-shadow(0px 1px 2px rgba(0, 0, 0, 0.3));\n",
              "      fill: #FFFFFF;\n",
              "    }\n",
              "  </style>\n",
              "\n",
              "    <script>\n",
              "      const buttonEl =\n",
              "        document.querySelector('#df-3f7e3e49-69af-4a6e-9371-86c6e50e3c85 button.colab-df-convert');\n",
              "      buttonEl.style.display =\n",
              "        google.colab.kernel.accessAllowed ? 'block' : 'none';\n",
              "\n",
              "      async function convertToInteractive(key) {\n",
              "        const element = document.querySelector('#df-3f7e3e49-69af-4a6e-9371-86c6e50e3c85');\n",
              "        const dataTable =\n",
              "          await google.colab.kernel.invokeFunction('convertToInteractive',\n",
              "                                                    [key], {});\n",
              "        if (!dataTable) return;\n",
              "\n",
              "        const docLinkHtml = 'Like what you see? Visit the ' +\n",
              "          '<a target=\"_blank\" href=https://colab.research.google.com/notebooks/data_table.ipynb>data table notebook</a>'\n",
              "          + ' to learn more about interactive tables.';\n",
              "        element.innerHTML = '';\n",
              "        dataTable['output_type'] = 'display_data';\n",
              "        await google.colab.output.renderOutput(dataTable, element);\n",
              "        const docLink = document.createElement('div');\n",
              "        docLink.innerHTML = docLinkHtml;\n",
              "        element.appendChild(docLink);\n",
              "      }\n",
              "    </script>\n",
              "  </div>\n",
              "\n",
              "\n",
              "<div id=\"df-9bf95653-36be-4774-a701-d78998e48dcc\">\n",
              "  <button class=\"colab-df-quickchart\" onclick=\"quickchart('df-9bf95653-36be-4774-a701-d78998e48dcc')\"\n",
              "            title=\"Suggest charts\"\n",
              "            style=\"display:none;\">\n",
              "\n",
              "<svg xmlns=\"http://www.w3.org/2000/svg\" height=\"24px\"viewBox=\"0 0 24 24\"\n",
              "     width=\"24px\">\n",
              "    <g>\n",
              "        <path d=\"M19 3H5c-1.1 0-2 .9-2 2v14c0 1.1.9 2 2 2h14c1.1 0 2-.9 2-2V5c0-1.1-.9-2-2-2zM9 17H7v-7h2v7zm4 0h-2V7h2v10zm4 0h-2v-4h2v4z\"/>\n",
              "    </g>\n",
              "</svg>\n",
              "  </button>\n",
              "\n",
              "<style>\n",
              "  .colab-df-quickchart {\n",
              "      --bg-color: #E8F0FE;\n",
              "      --fill-color: #1967D2;\n",
              "      --hover-bg-color: #E2EBFA;\n",
              "      --hover-fill-color: #174EA6;\n",
              "      --disabled-fill-color: #AAA;\n",
              "      --disabled-bg-color: #DDD;\n",
              "  }\n",
              "\n",
              "  [theme=dark] .colab-df-quickchart {\n",
              "      --bg-color: #3B4455;\n",
              "      --fill-color: #D2E3FC;\n",
              "      --hover-bg-color: #434B5C;\n",
              "      --hover-fill-color: #FFFFFF;\n",
              "      --disabled-bg-color: #3B4455;\n",
              "      --disabled-fill-color: #666;\n",
              "  }\n",
              "\n",
              "  .colab-df-quickchart {\n",
              "    background-color: var(--bg-color);\n",
              "    border: none;\n",
              "    border-radius: 50%;\n",
              "    cursor: pointer;\n",
              "    display: none;\n",
              "    fill: var(--fill-color);\n",
              "    height: 32px;\n",
              "    padding: 0;\n",
              "    width: 32px;\n",
              "  }\n",
              "\n",
              "  .colab-df-quickchart:hover {\n",
              "    background-color: var(--hover-bg-color);\n",
              "    box-shadow: 0 1px 2px rgba(60, 64, 67, 0.3), 0 1px 3px 1px rgba(60, 64, 67, 0.15);\n",
              "    fill: var(--button-hover-fill-color);\n",
              "  }\n",
              "\n",
              "  .colab-df-quickchart-complete:disabled,\n",
              "  .colab-df-quickchart-complete:disabled:hover {\n",
              "    background-color: var(--disabled-bg-color);\n",
              "    fill: var(--disabled-fill-color);\n",
              "    box-shadow: none;\n",
              "  }\n",
              "\n",
              "  .colab-df-spinner {\n",
              "    border: 2px solid var(--fill-color);\n",
              "    border-color: transparent;\n",
              "    border-bottom-color: var(--fill-color);\n",
              "    animation:\n",
              "      spin 1s steps(1) infinite;\n",
              "  }\n",
              "\n",
              "  @keyframes spin {\n",
              "    0% {\n",
              "      border-color: transparent;\n",
              "      border-bottom-color: var(--fill-color);\n",
              "      border-left-color: var(--fill-color);\n",
              "    }\n",
              "    20% {\n",
              "      border-color: transparent;\n",
              "      border-left-color: var(--fill-color);\n",
              "      border-top-color: var(--fill-color);\n",
              "    }\n",
              "    30% {\n",
              "      border-color: transparent;\n",
              "      border-left-color: var(--fill-color);\n",
              "      border-top-color: var(--fill-color);\n",
              "      border-right-color: var(--fill-color);\n",
              "    }\n",
              "    40% {\n",
              "      border-color: transparent;\n",
              "      border-right-color: var(--fill-color);\n",
              "      border-top-color: var(--fill-color);\n",
              "    }\n",
              "    60% {\n",
              "      border-color: transparent;\n",
              "      border-right-color: var(--fill-color);\n",
              "    }\n",
              "    80% {\n",
              "      border-color: transparent;\n",
              "      border-right-color: var(--fill-color);\n",
              "      border-bottom-color: var(--fill-color);\n",
              "    }\n",
              "    90% {\n",
              "      border-color: transparent;\n",
              "      border-bottom-color: var(--fill-color);\n",
              "    }\n",
              "  }\n",
              "</style>\n",
              "\n",
              "  <script>\n",
              "    async function quickchart(key) {\n",
              "      const quickchartButtonEl =\n",
              "        document.querySelector('#' + key + ' button');\n",
              "      quickchartButtonEl.disabled = true;  // To prevent multiple clicks.\n",
              "      quickchartButtonEl.classList.add('colab-df-spinner');\n",
              "      try {\n",
              "        const charts = await google.colab.kernel.invokeFunction(\n",
              "            'suggestCharts', [key], {});\n",
              "      } catch (error) {\n",
              "        console.error('Error during call to suggestCharts:', error);\n",
              "      }\n",
              "      quickchartButtonEl.classList.remove('colab-df-spinner');\n",
              "      quickchartButtonEl.classList.add('colab-df-quickchart-complete');\n",
              "    }\n",
              "    (() => {\n",
              "      let quickchartButtonEl =\n",
              "        document.querySelector('#df-9bf95653-36be-4774-a701-d78998e48dcc button');\n",
              "      quickchartButtonEl.style.display =\n",
              "        google.colab.kernel.accessAllowed ? 'block' : 'none';\n",
              "    })();\n",
              "  </script>\n",
              "</div>\n",
              "    </div>\n",
              "  </div>\n"
            ],
            "text/plain": [
              "                      user_id      name  review_count        yelping_since  \\\n",
              "0      k9Q2fyIr86AQKOvTUd22HQ    Claire           202  2007-11-29 22:52:35   \n",
              "1      l49SiMnSza1t5KdaOpecBQ       Rob            18  2012-03-17 15:35:03   \n",
              "2      q6iJ3PoohkpMQHS2cRYjuQ    Andrew           140  2008-09-08 23:33:47   \n",
              "3      dzZ7jClZzg8tcHXcxS19dg       Ken            14  2006-03-17 02:47:19   \n",
              "4      wEldYiMRs04ykBXBmDXdBw      Kara            21  2008-06-27 18:20:18   \n",
              "...                       ...       ...           ...                  ...   \n",
              "16481  _ldavW58__55UeaoTI01Tg    Claire            16  2016-06-10 21:08:42   \n",
              "16482  Qc5cAd9r7GiH6p1tLVbTRw     Tonya            20  2015-03-21 22:57:48   \n",
              "16483  k23Xl2Ko9yKWHAUdkYVLkg     Laura            11  2016-05-08 16:21:20   \n",
              "16484  ufDgHQz2P0LkPPdzFYuC_Q  Jennifer             8  2015-08-20 03:47:53   \n",
              "16485  S7LVtVOhAlOeukfjgMRl1g     David             2  2014-03-23 23:45:52   \n",
              "\n",
              "       useful  funny  cool  fans  average_stars  stars  \n",
              "0         241     84    97    12           3.69    5.0  \n",
              "1          14      5     4     2           3.25    1.0  \n",
              "2         143     41    40     6           3.53    4.0  \n",
              "3          27     10    11     1           3.87    4.0  \n",
              "4          48     12    26     6           4.52    5.0  \n",
              "...       ...    ...   ...   ...            ...    ...  \n",
              "16481      12      5     5     1           3.82    1.0  \n",
              "16482       9      2     6     0           3.77    5.0  \n",
              "16483       7      1     2     0           2.92    5.0  \n",
              "16484      16      0     1     0           3.22    5.0  \n",
              "16485       1      0     0     0           3.50    4.0  \n",
              "\n",
              "[16486 rows x 10 columns]"
            ]
          },
          "execution_count": 151,
          "metadata": {},
          "output_type": "execute_result"
        }
      ],
      "source": [
        "# Goal: Identify users with exactly one review, calculate their average star rating, and merge the information with the user DataFrame.\n",
        "\n",
        "# Identify users with exactly one review and store their IDs in a list\n",
        "users_with_one_review_ids = early_morning_review_counts[early_morning_review_counts == 1].index.tolist()\n",
        "\n",
        "# Filter the user DataFrame to include only users with one review\n",
        "users_with_one_review_df = df_user[df_user['user_id'].isin(users_with_one_review_ids)]\n",
        "\n",
        "# Assuming df_review is our DataFrame containing reviews with 'user_id' and 'stars'\n",
        "# Calculate the average star rating for each user with one review\n",
        "average_stars_per_user = df_review[df_review['user_id'].isin(users_with_one_review_ids)].groupby('user_id')['stars'].mean().reset_index()\n",
        "\n",
        "# Merge the average stars with the user DataFrame\n",
        "users_with_one_review_df = users_with_one_review_df.merge(average_stars_per_user, on='user_id', how='left')\n",
        "\n",
        "# The resulting users_with_one_review_df should contain the user IDs, their friends, and the average star rating\n",
        "# Display the DataFrame\n",
        "users_with_one_review_df"
      ]
    },
    {
      "cell_type": "code",
      "execution_count": null,
      "metadata": {
        "colab": {
          "background_save": true
        },
        "id": "o5jJ6cUyLoz3"
      },
      "outputs": [],
      "source": [
        "# Goal: Define helper functions for scoring and flagging users based on review data\n",
        "def temporal_score(yelping_since):\n",
        "    # Calculate a temporal score based on 'yelping_since' timestamp\n",
        "    review_time = datetime.strptime(yelping_since, '%Y-%m-%d %H:%M:%S').time()\n",
        "    return 0 if time(1, 0) <= review_time <= time(11, 0) else 1\n",
        "\n",
        "def is_first_review(row):\n",
        "    # Determine if a review is the user's first review\n",
        "    return row['date'] == df_merged[df_merged['user_id'] == row['user_id']]['date'].min()"
      ]
    },
    {
      "cell_type": "code",
      "execution_count": null,
      "metadata": {
        "colab": {
          "background_save": true
        },
        "id": "q7X4HluAL0dN"
      },
      "outputs": [],
      "source": [
        "# Goal: Apply simple calculations directly to the DataFrame to create various scores for analysis\n",
        "\n",
        "# 'friends_score' represents the number of fans a user has. It can indicate the user's influence and credibility on the platform.\n",
        "df_merged['friends_score'] = df_merged['fans']\n",
        "\n",
        "# 'helpfulness_score' is a cumulative measure of a user's engagement and contribution to the platform, combining 'useful', 'funny', and 'cool' interactions.\n",
        "df_merged['helpfulness_score'] = df_merged['useful'] + df_merged['funny'] + df_merged['cool']\n",
        "\n",
        "# 'review_count_score' reflects the number of reviews a user has written, which can be indicative of their experience and activity level on Yelp.\n",
        "df_merged['review_count_score'] = df_merged['review_count']\n",
        "\n",
        "# 'temporal_score' is calculated based on the 'yelping_since' field, providing insight into the duration of the user's presence and activity on Yelp.\n",
        "df_merged['temporal_score'] = df_merged['yelping_since'].apply(temporal_score)\n",
        "\n",
        "# Converting the 'date' column to datetime format for consistency and ease of analysis.\n",
        "df_merged['date'] = pd.to_datetime(df_merged['date'], errors='coerce')"
      ]
    },
    {
      "cell_type": "code",
      "execution_count": null,
      "metadata": {
        "colab": {
          "background_save": true
        },
        "id": "u8x9u9i_L1ZK"
      },
      "outputs": [],
      "source": [
        "# Goal: Clean and sort the DataFrame for further analysis\n",
        "df_merged.dropna(subset=['date'], inplace=True)\n",
        "df_merged.sort_values(['user_id', 'date'], inplace=True)\n",
        "df_merged['review_day'] = df_merged['date'].dt.normalize()\n",
        "df_merged['daily_review_count'] = df_merged.groupby(['user_id', 'review_day'])['review_id'].transform('count')"
      ]
    },
    {
      "cell_type": "code",
      "execution_count": null,
      "metadata": {
        "colab": {
          "background_save": true
        },
        "id": "n72xbXjiL1bb"
      },
      "outputs": [],
      "source": [
        "# Goal: Flag users who write high-frequency reviews\n",
        "review_frequency_threshold = 10\n",
        "df_merged['flagged_high_frequency'] = df_merged['daily_review_count'] > review_frequency_threshold"
      ]
    },
    {
      "cell_type": "code",
      "execution_count": null,
      "metadata": {
        "colab": {
          "background_save": true
        },
        "collapsed": true,
        "id": "H3xME_2JL1dH",
        "outputId": "a6ca49ed-6d8a-4343-bced-09eda421870b"
      },
      "outputs": [
        {
          "name": "stdout",
          "output_type": "stream",
          "text": [
            "False    116367\n",
            "True      38287\n",
            "Name: suspicious, dtype: int64\n"
          ]
        }
      ],
      "source": [
        "# Goal: Flag users as suspicious based on a composite score and high-frequency reviews,\n",
        "# and output counts of suspicious and non-suspicious users.\n",
        "df_merged['composite_score'] = df_merged[['friends_score', 'helpfulness_score', 'review_count_score', 'temporal_score']].mean(axis=1)\n",
        "\n",
        "# Determine the threshold for flagging users as suspicious based on the composite score.\n",
        "threshold = df_merged['composite_score'].quantile(0.25)\n",
        "\n",
        "# Flag users as suspicious if their composite score is below the threshold or if they have high-frequency reviews.\n",
        "df_merged['suspicious'] = (df_merged['composite_score'] < threshold) | df_merged['flagged_high_frequency']\n",
        "\n",
        "# Output the counts of suspicious and non-suspicious users.\n",
        "print(df_merged['suspicious'].value_counts())"
      ]
    },
    {
      "cell_type": "code",
      "execution_count": null,
      "metadata": {
        "colab": {
          "background_save": true
        },
        "id": "6WPZk4RxzbCX"
      },
      "outputs": [],
      "source": [
        "# Goal: Calculate 'review_frequency' for users\n",
        "df_user['yelping_since'] = pd.to_datetime(df_user['yelping_since'])\n",
        "df_user['days_on_yelp'] = (pd.Timestamp.now() - df_user['yelping_since']).dt.days\n",
        "df_user['review_frequency'] = df_user['review_count'] / df_user['days_on_yelp']"
      ]
    },
    {
      "cell_type": "code",
      "execution_count": null,
      "metadata": {
        "colab": {
          "background_save": true
        },
        "id": "HHg7L5f_zbWq"
      },
      "outputs": [],
      "source": [
        "# Goal: Normalize the 'review_frequency' metric using Min-Max scaling\n",
        "df_user['review_frequency_norm'] = (df_user['review_frequency'] - df_user['review_frequency'].min()) / (df_user['review_frequency'].max() - df_user['review_frequency'].min())"
      ]
    },
    {
      "cell_type": "code",
      "execution_count": null,
      "metadata": {
        "colab": {
          "background_save": true
        },
        "id": "RIH2y7LazbY2"
      },
      "outputs": [],
      "source": [
        "# Goal: Handle outliers using percentile capping (Winsorization) for specific metrics\n",
        "for metric in ['review_count', 'useful', 'funny', 'cool', 'fans']:\n",
        "    # Calculate the 95th percentile for the metric\n",
        "    percentile_95 = np.percentile(df_user[metric], 95)\n",
        "    # Cap values at the 95th percentile\n",
        "    df_user[f'{metric}_capped'] = df_user[metric].apply(lambda x: min(x, percentile_95))"
      ]
    },
    {
      "cell_type": "code",
      "execution_count": null,
      "metadata": {
        "colab": {
          "background_save": true
        },
        "id": "UE0WdM3zzhMl"
      },
      "outputs": [],
      "source": [
        "# Goal: Calculate Z-scores using capped values for specific metrics\n",
        "for metric in ['review_count_capped', 'useful_capped', 'funny_capped', 'cool_capped', 'fans_capped']:\n",
        "    # Calculate Z-scores for the capped metric\n",
        "    df_user[f'{metric}_zscore'] = stats.zscore(df_user[metric])"
      ]
    },
    {
      "cell_type": "code",
      "execution_count": null,
      "metadata": {
        "colab": {
          "background_save": true
        },
        "id": "gbga-sgtzhSG"
      },
      "outputs": [],
      "source": [
        "# Goal: Use percentile rank to scale the metrics\n",
        "for metric in ['review_count_capped', 'useful_capped', 'funny_capped', 'cool_capped', 'fans_capped']:\n",
        "    # Calculate percentile rank for the capped metric\n",
        "    df_user[f'{metric}_percentile'] = df_user[metric].rank(pct=True)"
      ]
    },
    {
      "cell_type": "code",
      "execution_count": null,
      "metadata": {
        "colab": {
          "background_save": true
        },
        "id": "9ccZvPxXzlWk"
      },
      "outputs": [],
      "source": [
        "# Goal: Combine percentile ranks into a composite credibility index\n",
        "# This step calculates the average of percentile ranks for all metrics\n",
        "df_user['credibility_index'] = df_user[['review_count_capped_percentile',\n",
        "                                        'useful_capped_percentile',\n",
        "                                        'funny_capped_percentile',\n",
        "                                        'cool_capped_percentile',\n",
        "                                        'fans_capped_percentile']].mean(axis=1)"
      ]
    },
    {
      "cell_type": "code",
      "execution_count": null,
      "metadata": {
        "colab": {
          "background_save": true
        },
        "id": "SMnmfwszzqJR",
        "outputId": "181d72ba-1b65-44a1-ada0-cadac21609be"
      },
      "outputs": [
        {
          "data": {
            "image/png": "[encoded data removed]",
            "text/plain": [
              "<Figure size 1000x600 with 1 Axes>"
            ]
          },
          "metadata": {},
          "output_type": "display_data"
        }
      ],
      "source": [
        "# Goal: Plot the adjusted credibility index distribution\n",
        "plt.figure(figsize=(10, 6))\n",
        "plt.hist(df_user['credibility_index'], bins=20, edgecolor='black')\n",
        "plt.title('Adjusted Distribution of Reviewer Credibility Scores')\n",
        "plt.xlabel('Credibility Score')\n",
        "plt.ylabel('Number of Users')\n",
        "plt.show()"
      ]
    },
    {
      "cell_type": "code",
      "execution_count": null,
      "metadata": {
        "colab": {
          "background_save": true
        },
        "collapsed": true,
        "id": "yPrG0VWXJi4X",
        "outputId": "d33025e7-53b8-4896-d513-cf9b194cfcae"
      },
      "outputs": [
        {
          "name": "stdout",
          "output_type": "stream",
          "text": [
            "Max daily reviews for non-flagged users: 10\n",
            "Min daily reviews for flagged users: 12\n"
          ]
        }
      ],
      "source": [
        "# Goal: Validate the high-frequency review flagging by checking the maximum and minimum daily review counts.\n",
        "\n",
        "# Check the maximum review count for non-flagged users\n",
        "max_reviews_non_flagged = df_merged[~df_merged['flagged_high_frequency']]['daily_review_count'].max()\n",
        "print(f\"Max daily reviews for non-flagged users: {max_reviews_non_flagged}\")\n",
        "\n",
        "# If our threshold is 10, this number should be 10 or less.\n",
        "\n",
        "# Check the minimum review count for flagged users\n",
        "min_reviews_flagged = df_merged[df_merged['flagged_high_frequency']]['daily_review_count'].min()\n",
        "print(f\"Min daily reviews for flagged users: {min_reviews_flagged}\")\n",
        "\n",
        "# This number should be greater than 10, as 10 is our threshold of reviews in a single day (review_frequency_threshold)."
      ]
    },
    {
      "cell_type": "code",
      "execution_count": null,
      "metadata": {
        "colab": {
          "background_save": true
        },
        "id": "729dZEUJMH9g"
      },
      "outputs": [],
      "source": [
        "# Goal: Prepare the data and filter reviews from suspicious and non-suspicious users\n",
        "\n",
        "# Assuming df_merged is our DataFrame and has been processed as per previous steps\n",
        "suspicious_reviews = df_merged[df_merged['suspicious']]['text']\n",
        "non_suspicious_reviews = df_merged[~df_merged['suspicious']]['text']"
      ]
    },
    {
      "cell_type": "code",
      "execution_count": null,
      "metadata": {
        "colab": {
          "background_save": true
        },
        "collapsed": true,
        "id": "35OGR_r_MI2t",
        "outputId": "3f298f81-9929-4d51-868c-85476a0bea1e"
      },
      "outputs": [
        {
          "name": "stderr",
          "output_type": "stream",
          "text": [
            "[nltk_data] Downloading package vader_lexicon to /root/nltk_data...\n",
            "[nltk_data]   Package vader_lexicon is already up-to-date!\n"
          ]
        }
      ],
      "source": [
        "# Goal: Download the VADER lexicon for sentiment analysis and define a sentiment analysis function\n",
        "\n",
        "# Download the VADER lexicon for sentiment analysis\n",
        "nltk.download('vader_lexicon')\n",
        "sia = SentimentIntensityAnalyzer()\n",
        "\n",
        "# Function to apply sentiment analysis\n",
        "def analyze_sentiment(review):\n",
        "    return sia.polarity_scores(review)['compound']"
      ]
    },
    {
      "cell_type": "code",
      "execution_count": null,
      "metadata": {
        "colab": {
          "background_save": true
        },
        "id": "ulyl8x8GMLW4"
      },
      "outputs": [],
      "source": [
        "# Goal: Apply sentiment analysis to each review and calculate overall sentiment\n",
        "\n",
        "# Apply sentiment analysis to reviews from suspicious users\n",
        "suspicious_reviews_sentiment = suspicious_reviews.apply(analyze_sentiment)\n",
        "\n",
        "# Apply sentiment analysis to reviews from non-suspicious users\n",
        "non_suspicious_reviews_sentiment = non_suspicious_reviews.apply(analyze_sentiment)"
      ]
    },
    {
      "cell_type": "code",
      "execution_count": null,
      "metadata": {
        "colab": {
          "background_save": true
        },
        "id": "Y1mXboSYMMqQ",
        "outputId": "e0eef4da-94c7-4d1f-8942-c3b44be82842"
      },
      "outputs": [
        {
          "name": "stdout",
          "output_type": "stream",
          "text": [
            "Overall Sentiment for Suspicious Users: 0.6700811920495208\n",
            "Overall Sentiment for Non-Suspicious Users: 0.7535045631493466\n"
          ]
        }
      ],
      "source": [
        "# Goal: Calculate the mean of the compound sentiment scores and print the results\n",
        "\n",
        "# Calculate the mean of compound sentiment scores for suspicious users\n",
        "overall_suspicious_sentiment = suspicious_reviews_sentiment.mean()\n",
        "\n",
        "# Calculate the mean of compound sentiment scores for non-suspicious users\n",
        "overall_non_suspicious_sentiment = non_suspicious_reviews_sentiment.mean()\n",
        "\n",
        "# Print overall sentiment for both suspicious and non-suspicious users\n",
        "print(f\"Overall Sentiment for Suspicious Users: {overall_suspicious_sentiment}\")\n",
        "print(f\"Overall Sentiment for Non-Suspicious Users: {overall_non_suspicious_sentiment}\")"
      ]
    },
    {
      "cell_type": "code",
      "execution_count": null,
      "metadata": {
        "colab": {
          "background_save": true
        },
        "id": "LHtSnLSCMR4K"
      },
      "outputs": [],
      "source": [
        "# Goal: Aggregate the data to get the count of reviews per day for suspicious and non-suspicious users\n",
        "\n",
        "# First, aggregate the data to count reviews per day for suspicious and non-suspicious users.\n",
        "daily_reviews = df_merged.groupby(['review_day', 'suspicious']).size().reset_index(name='review_count')"
      ]
    },
    {
      "cell_type": "code",
      "execution_count": null,
      "metadata": {
        "colab": {
          "background_save": true
        },
        "id": "rqoe79UWMSsT"
      },
      "outputs": [],
      "source": [
        "# Goal: Pivot the aggregated data so that each user type has its own column\n",
        "\n",
        "# Pivot the aggregated data to create separate columns for user types.\n",
        "pivot_daily_reviews = daily_reviews.pivot(index='review_day', columns='suspicious', values='review_count').fillna(0)"
      ]
    },
    {
      "cell_type": "code",
      "execution_count": null,
      "metadata": {
        "colab": {
          "background_save": true
        },
        "collapsed": true,
        "id": "71aRpD3aMUju",
        "outputId": "0be03c85-d3e4-48b4-e638-93ed7d73155c"
      },
      "outputs": [
        {
          "data": {
            "image/png": "[encoded data removed]",
            "text/plain": [
              "<Figure size 1200x600 with 1 Axes>"
            ]
          },
          "metadata": {},
          "output_type": "display_data"
        }
      ],
      "source": [
        "# Goal: Plot the number of reviews over time for both user types using line plots\n",
        "\n",
        "# Create a plot to visualize review frequency over time for both user types.\n",
        "plt.figure(figsize=(12, 6))\n",
        "\n",
        "# Plot for non-suspicious users.\n",
        "sns.lineplot(data=pivot_daily_reviews, x=pivot_daily_reviews.index, y=False, label='Regular', color='blue')\n",
        "\n",
        "# Plot for suspicious users.\n",
        "sns.lineplot(data=pivot_daily_reviews, x=pivot_daily_reviews.index, y=True, label='Suspicious', color='orange')\n",
        "\n",
        "plt.title('Review Frequency Over Time by User Type')\n",
        "plt.xlabel('Date')\n",
        "plt.ylabel('Number of Reviews')\n",
        "plt.legend(title='User Type')\n",
        "\n",
        "plt.tight_layout()  # Adjust the plot to ensure everything fits without overlapping\n",
        "plt.show()"
      ]
    },
    {
      "cell_type": "code",
      "execution_count": null,
      "metadata": {
        "colab": {
          "background_save": true
        },
        "id": "58SsruGQJi4Y",
        "outputId": "84e1c069-6626-4958-d127-fd0534f6fff4"
      },
      "outputs": [
        {
          "data": {
            "image/png": "[encoded data removed]",
            "text/plain": [
              "<Figure size 1000x600 with 1 Axes>"
            ]
          },
          "metadata": {},
          "output_type": "display_data"
        }
      ],
      "source": [
        "# @title\n",
        "# Goal: Create boxplots to visualize the distribution of 'review_count' for suspicious versus not suspicious users\n",
        "\n",
        "# Create a figure for the boxplots\n",
        "plt.figure(figsize=(10, 6))\n",
        "\n",
        "# Create boxplots\n",
        "sns.boxplot(x='suspicious', y='review_count', data=df_merged)\n",
        "\n",
        "# Set title and labels\n",
        "plt.title('Boxplot of Review Count for Suspicious vs Non-Suspicious Users')\n",
        "plt.xlabel('Is Suspicious')\n",
        "plt.ylabel('Review Count')\n",
        "\n",
        "# Show the plot\n",
        "plt.show()"
      ]
    }
  ],
  "metadata": {
    "colab": {
      "provenance": []
    },
    "kernelspec": {
      "display_name": "venv",
      "language": "python",
      "name": "python3"
    },
    "language_info": {
      "codemirror_mode": {
        "name": "ipython",
        "version": 3
      },
      "file_extension": ".py",
      "mimetype": "text/x-python",
      "name": "python",
      "nbconvert_exporter": "python",
      "pygments_lexer": "ipython3",
      "version": "3.10.11"
    }
  },
  "nbformat": 4,
  "nbformat_minor": 0
}